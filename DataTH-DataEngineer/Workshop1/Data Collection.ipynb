{
 "cells": [
  {
   "cell_type": "code",
   "execution_count": null,
   "metadata": {},
   "outputs": [],
   "source": [
    "#database เป็น mySQL\n",
    "\n",
    "pip install pymysql"
   ]
  },
  {
   "cell_type": "code",
   "execution_count": 1,
   "metadata": {},
   "outputs": [],
   "source": [
    "import config"
   ]
  },
  {
   "cell_type": "code",
   "execution_count": 2,
   "metadata": {},
   "outputs": [],
   "source": [
    "import pymysql.cursors\n",
    "\n",
    "# Connect to the database\n",
    "connection = pymysql.connect(host=config.MYSQL_HOST,\n",
    "                             port=config.MYSQL_PORT,\n",
    "                             user=config.MYSQL_USER,\n",
    "                             password=config.MYSQL_PASSWORD,\n",
    "                             db=config.MYSQL_DB,\n",
    "                             charset=config.MYSQL_CHARSET,\n",
    "                             cursorclass=pymysql.cursors.DictCursor)"
   ]
  },
  {
   "cell_type": "code",
   "execution_count": 3,
   "metadata": {},
   "outputs": [
    {
     "name": "stdout",
     "output_type": "stream",
     "text": [
      "number of rows:  345519 ⁀⊙﹏☉⁀\n"
     ]
    }
   ],
   "source": [
    "with connection.cursor() as cursor:\n",
    "  # Read a single record\n",
    "  sql = \"SELECT * from online_retail\"\n",
    "    #cursor.execute(\"show tables;\") ใช้คำสั่งนี้แสดงชื่อตารางทั้งหมดที่มีใน database ได้\n",
    "  cursor.execute(sql)\n",
    "  result = cursor.fetchall()\n",
    "\n",
    "print(\"number of rows: \", len(result), \"⁀⊙﹏☉⁀\")"
   ]
  },
  {
   "cell_type": "code",
   "execution_count": 4,
   "metadata": {},
   "outputs": [
    {
     "data": {
      "text/plain": [
       "list"
      ]
     },
     "execution_count": 4,
     "metadata": {},
     "output_type": "execute_result"
    }
   ],
   "source": [
    "type(result)"
   ]
  },
  {
   "cell_type": "code",
   "execution_count": null,
   "metadata": {},
   "outputs": [],
   "source": [
    "import pandas as pd\n"
   ]
  },
  {
   "cell_type": "code",
   "execution_count": null,
   "metadata": {},
   "outputs": [],
   "source": [
    "df_online_retail = pd.DataFrame(result)\n",
    "\n",
    "\n",
    "#ถ้าอยาก save เป็น csv\n",
    "# pd.DataFrame(result).to_csv(\"online_retail.csv\")\n",
    "# df_online_retail.read_csv(\"online_retail.csv\")"
   ]
  },
  {
   "cell_type": "code",
   "execution_count": null,
   "metadata": {},
   "outputs": [],
   "source": [
    "df_online_retail.columns"
   ]
  },
  {
   "cell_type": "code",
   "execution_count": null,
   "metadata": {},
   "outputs": [],
   "source": [
    "df_online_retail[[\"InvoiceNo\",\"StockCode\",\"Description\",\"Quantity\",\"CustomerID\"]]"
   ]
  },
  {
   "cell_type": "code",
   "execution_count": null,
   "metadata": {},
   "outputs": [],
   "source": []
  }
 ],
 "metadata": {
  "kernelspec": {
   "display_name": "Python 3",
   "language": "python",
   "name": "python3"
  },
  "language_info": {
   "codemirror_mode": {
    "name": "ipython",
    "version": 3
   },
   "file_extension": ".py",
   "mimetype": "text/x-python",
   "name": "python",
   "nbconvert_exporter": "python",
   "pygments_lexer": "ipython3",
   "version": "3.8.3"
  }
 },
 "nbformat": 4,
 "nbformat_minor": 4
}
